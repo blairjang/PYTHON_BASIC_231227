{
 "cells": [
  {
   "cell_type": "markdown",
   "id": "c7b27a22",
   "metadata": {},
   "source": [
    "## GET : 조회 \n",
    "## POST : 수정"
   ]
  },
  {
   "cell_type": "markdown",
   "id": "016caefc",
   "metadata": {},
   "source": [
    "# DRF란\n",
    "\n",
    "- 장고를 기반으로 REST API 서버를 만들기 위한 라이브러리\n",
    "- API는 웹 뿐만 아니라 앱이나 다양한 플랫폼의 백엔드 서비스를 위해 JSON과 같은 **규격화된** 데이터를 제공\n",
    "    - DRF를 사용하면 기존의 자체적인 웹 템플릿에만 데이터를 전달하던 장고 프로젝트에서 JSON과 같은 양식으로 다양한 플랫폼의 클라이언트에게 데이터를 제공해줄 수 있는 API 서버 프로젝트가 완성됨 "
   ]
  },
  {
   "cell_type": "code",
   "execution_count": 23,
   "id": "e5dbd767",
   "metadata": {},
   "outputs": [],
   "source": [
    "import requests"
   ]
  },
  {
   "cell_type": "code",
   "execution_count": 24,
   "id": "9d820f4c",
   "metadata": {},
   "outputs": [],
   "source": [
    "res = requests.get('http://127.0.0.1:8000/example/hello/')"
   ]
  },
  {
   "cell_type": "code",
   "execution_count": 25,
   "id": "c4ef4657",
   "metadata": {},
   "outputs": [],
   "source": [
    "res = requests.get('http://127.0.0.1:8000/example/fbv/books/')"
   ]
  },
  {
   "cell_type": "code",
   "execution_count": 26,
   "id": "87e394f5",
   "metadata": {},
   "outputs": [],
   "source": [
    "res = requests.get('http://127.0.0.1:8000/example/cbv/book/2/')"
   ]
  },
  {
   "cell_type": "code",
   "execution_count": 27,
   "id": "48f090e4",
   "metadata": {},
   "outputs": [],
   "source": [
    "res = requests.get('http://127.0.0.1:8000/example/cbv/book/3/')"
   ]
  },
  {
   "cell_type": "code",
   "execution_count": 28,
   "id": "b3cebfad",
   "metadata": {},
   "outputs": [],
   "source": [
    "res = requests.get('http://127.0.0.1:8000/example/fbv/book/1')"
   ]
  },
  {
   "cell_type": "code",
   "execution_count": 29,
   "id": "dee757da",
   "metadata": {},
   "outputs": [],
   "source": [
    "res = requests.get('http://127.0.0.1:8000/example/cbv/hello/')"
   ]
  },
  {
   "cell_type": "code",
   "execution_count": 30,
   "id": "6f7baed3",
   "metadata": {},
   "outputs": [
    {
     "data": {
      "text/plain": [
       "<Response [200]>"
      ]
     },
     "execution_count": 30,
     "metadata": {},
     "output_type": "execute_result"
    }
   ],
   "source": [
    "res"
   ]
  },
  {
   "cell_type": "code",
   "execution_count": 31,
   "id": "caafe23e",
   "metadata": {},
   "outputs": [
    {
     "data": {
      "text/plain": [
       "'\"hello world!\"'"
      ]
     },
     "execution_count": 31,
     "metadata": {},
     "output_type": "execute_result"
    }
   ],
   "source": [
    "res.text"
   ]
  },
  {
   "cell_type": "code",
   "execution_count": 32,
   "id": "5953c604",
   "metadata": {},
   "outputs": [
    {
     "data": {
      "text/plain": [
       "'hello world!'"
      ]
     },
     "execution_count": 32,
     "metadata": {},
     "output_type": "execute_result"
    }
   ],
   "source": [
    "res.json()"
   ]
  },
  {
   "cell_type": "code",
   "execution_count": 21,
   "id": "a97b58f2",
   "metadata": {},
   "outputs": [],
   "source": [
    "res = requests.post('http://127.0.0.1:8000/example/cbv/books/',\n",
    "                   data = {\n",
    "    \"bid\" : 4,\n",
    "    \"title\" : \"생성형 AI로 웹툰 만화 제작하기\",\n",
    "    \"author\" : \"김한재 \",\n",
    "    \"category\" : \"프로그래밍\",\n",
    "    \"pages\" : 232,\n",
    "    \"price\" : 22500,\n",
    "    \"published_date\" : \"2024-04-03\",\n",
    "    \"description\" : \"스테이블 디퓨전·미드저니·챗GPT\"\n",
    "})"
   ]
  },
  {
   "cell_type": "code",
   "execution_count": 22,
   "id": "14902d00",
   "metadata": {},
   "outputs": [
    {
     "data": {
      "text/plain": [
       "<Response [201]>"
      ]
     },
     "execution_count": 22,
     "metadata": {},
     "output_type": "execute_result"
    }
   ],
   "source": [
    "res"
   ]
  },
  {
   "cell_type": "code",
   "execution_count": 33,
   "id": "6633152c",
   "metadata": {},
   "outputs": [],
   "source": [
    "res = requests.delete('http://127.0.0.1:8000/example/mixin/book/2/')"
   ]
  },
  {
   "cell_type": "code",
   "execution_count": 34,
   "id": "5778e975",
   "metadata": {},
   "outputs": [
    {
     "data": {
      "text/plain": [
       "<Response [204]>"
      ]
     },
     "execution_count": 34,
     "metadata": {},
     "output_type": "execute_result"
    }
   ],
   "source": [
    "# 성공적으로 삭제가 잘됨 \n",
    "res"
   ]
  },
  {
   "cell_type": "code",
   "execution_count": 35,
   "id": "238c4b31",
   "metadata": {},
   "outputs": [
    {
     "data": {
      "text/plain": [
       "''"
      ]
     },
     "execution_count": 35,
     "metadata": {},
     "output_type": "execute_result"
    }
   ],
   "source": [
    "res.text"
   ]
  },
  {
   "cell_type": "code",
   "execution_count": 2,
   "id": "86abdc9d",
   "metadata": {},
   "outputs": [],
   "source": [
    "# pip install djangorestframework\n",
    "\n",
    "# django-admin startproject myapi(프로젝트명) . \n",
    "\n",
    "# python manage.py startapp example(앱 이름)"
   ]
  },
  {
   "cell_type": "code",
   "execution_count": null,
   "id": "ca9d5102",
   "metadata": {},
   "outputs": [],
   "source": [
    "# myapi settings.py\n",
    "\n",
    "INSTALLED_APPS = [\n",
    "    \"django.contrib.admin\",\n",
    "    \"django.contrib.auth\",\n",
    "    \"django.contrib.contenttypes\",\n",
    "    \"django.contrib.sessions\",\n",
    "    \"django.contrib.messages\",\n",
    "    \"django.contrib.staticfiles\",\n",
    "    \"example\",\n",
    "    \"rest_framework\",\n",
    "]\n",
    "\n",
    "TIME_ZONE = \"Asia/Seoul\""
   ]
  },
  {
   "cell_type": "code",
   "execution_count": null,
   "id": "163284c6",
   "metadata": {},
   "outputs": [],
   "source": [
    "# python manage.py makemigrations\n",
    "# python manage.py migrate "
   ]
  },
  {
   "cell_type": "code",
   "execution_count": null,
   "id": "67e5bad9",
   "metadata": {},
   "outputs": [],
   "source": [
    "# from django.shortcuts import render => 우리는 request만 할거기때문에 render 필요없음\n",
    "from rest_framework import status\n",
    "from rest_framework.response import Response\n",
    "from rest_framework.views import APIView\n",
    "from rest_framework.decorators import api_view\n",
    "\n",
    "# Create your views here.\n",
    "@api_view(['GET'])\n",
    "def helloAPI(request):\n",
    "    return Response('hello world!')\n"
   ]
  },
  {
   "cell_type": "markdown",
   "id": "6bd513cd",
   "metadata": {},
   "source": [
    "## DRF의 뷰\n",
    "\n",
    "- @와 함께 작성된 코드를 데코레이터라고 부름 \n",
    "    - 데코레이터는 함수를 꾸미는 역할\n",
    "    - 해당 함수에 댛나 성격이나 스타일을 표시해주는 표기법\n",
    "    - helloAPI는 get요청을 받을 수 있는 api라는 것을 api_view라는 표기법으로 나타냄\n",
    "    \n",
    "    \n",
    "- request 객체는 요청에 대한 정보를 담고 있음 \n",
    "    - 요청이 어떤 타입인지(get, post)\n",
    "    - 사용자가 어떤 데이터를 함께 보내주었는지 \n",
    "    - 이런 정보를 알고 싶을 때 request.method, request.data 등으로 요청타입과 데이터에 접근할 수 있음 \n",
    "    \n",
    "    \n",
    "- Response 클래스는 DRF의 결과 반환 방식\n",
    "    - request와 마찬가지로 Response 에는 응답에 대한 정보를 담고 있음\n",
    "    - response.data, response.status "
   ]
  },
  {
   "cell_type": "code",
   "execution_count": null,
   "id": "12935431",
   "metadata": {},
   "outputs": [],
   "source": [
    "# myapi urls.py\n",
    "from django.contrib import admin\n",
    "from django.urls import path\n",
    "\n",
    "urlpatterns = [\n",
    "    path(\"admin/\", admin.site.urls),\n",
    "    path('example/', include('example.urls')),\n",
    "]"
   ]
  },
  {
   "cell_type": "markdown",
   "id": "0a1e9e8d",
   "metadata": {},
   "source": [
    "## Django와 달라진 점\n",
    "\n",
    "- DRF는 Response 를 제공하는 API의 형태로 결과물이 나옴\n",
    "    - 템플릿의 형태가 아닌 JSON 과 같은 형태의 응답을 제공\n",
    "    - 기존 장고에서는 템플릿으로 데이터를 제공했다면 DRF에서는 Serializer 가 템플릿과 같은 역할을 수행 \n",
    "    \n",
    "| 특징 | Pure Django | Django REST Framework |\n",
    "| :--: | :-- | :-- |\n",
    "| 개발 목적 | 웹 풀스택 개발 | 백엔드 API 서버 개발 |\n",
    "|  개발 결과 |  웹 페이지를 포함한 웹 서비스 | 여러 클라이언트에서 사용할 수 있는 API 서버 |\n",
    "|  응답 형태 | HTML | JSON |\n",
    "| 다른 파일  | templates | serializers.py |"
   ]
  },
  {
   "cell_type": "markdown",
   "id": "6048b824",
   "metadata": {},
   "source": [
    "## DRF Serializer \n",
    "\n",
    "- 시리얼라이저의 사전적 의미는 직렬화\n",
    "    - 직렬화는 장고 프로젝트에서 만든 모델을 JSON 으로 변환하는 것 \n",
    "    \n",
    "- DRF 내에서 데이터를 저장할 때에는 장고의 모델을 통해 저장\n",
    "    - 모델은 데이터베이스 테이블을 추상화한 개념\n",
    "    - 장고의 ORM 을 통해 파이썬 문법으로 데이터를 처리할 수 있음 \n",
    "    - 이 때 장고 모델의 데이터는 파이썬 객체의 형태 \n",
    "    \n",
    "- API는 위의 데이터를 클라이언트에 보내주는 역할을 하는데 파이썬 객체를 그대로 보낸다면 파이썬 데이터를 읽지 못할 수도 있음 \n",
    "    - 그렇기 때문에 파이썬 데이터를 읽을 수 있도록 문자열(JSON 등) 의 형태로 변환해서 보내줘야함 \n",
    "    - 파이썬 데이터 객체를 문자열 등으로 변환하는 작업을 직렬화(serialize) \n",
    "    \n",
    "- 반대로 클라이언트가 데이터를 DRF서버에 보내주는 경우\n",
    "    - 클라이언트는 API 요청에 데이터를 JSON 등 문자열 형태로 입력하여 보내주게 됨 \n",
    "    - DRF 서버에서는 모델을 통해 데이터를 저장하려면 데이터가 파이썬 객체의 형태여야 함\n",
    "    - 따라서 앞선 경우와 반대로 JSON 등 문자열 데이터를 파이썬 데이터 객체로 변환해야 함\n",
    "        - 이 작업을 역직렬화(Deserialize)라고 함 \n",
    "              \n",
    "- 시리얼라이저는 직렬화와 역질렬화 기능을 동시에 가짐 \n",
    "    - 요약하자면 시리얼라이저는 클라이언트와 API 서버 간 데이터 양식을 맞춰주는 변환기 "
   ]
  },
  {
   "cell_type": "code",
   "execution_count": null,
   "id": "d1280434",
   "metadata": {},
   "outputs": [],
   "source": [
    "# example models.py 에서 모델 생성\n",
    "from django.db import models\n",
    "\n",
    "# Create your models here.\n",
    "class Book(models.Model):\n",
    "    bid = models.IntegerField(primary_key = True) # 책 id\n",
    "    title = models.CharField(max_length = 50) # 책 제목 \n",
    "    author = models.CharField(max_length = 50) # 저자\n",
    "    category = models.CharField(max_length = 50) # 카테고리\n",
    "    pages = models.IntegerField() # 페이지 수 \n",
    "    price = models.IntegerField() # 가격\n",
    "    published_cate = models.DateField() # 출판일\n",
    "    description = models.TextField() # 도서 설명"
   ]
  },
  {
   "cell_type": "markdown",
   "id": "60143fbe",
   "metadata": {},
   "source": [
    "- model 생성 후 example 앱에서 serializers.py 파일생성 \n",
    "- post로 들어온것들을 역질렬화로 바꿔줌 "
   ]
  },
  {
   "cell_type": "code",
   "execution_count": null,
   "id": "de6774ed",
   "metadata": {},
   "outputs": [],
   "source": [
    "# example/serializers\n",
    "\n",
    "from rest_framework import serializers\n",
    "from example.models import Book\n",
    "\n",
    "\n",
    "class BookSerializer(serializers.ModelSerializer):\n",
    "    class Meta:\n",
    "        model = Book\n",
    "        fields = ['bid', 'title', 'author', 'category', 'pages', 'price', 'published_date', 'description']"
   ]
  },
  {
   "cell_type": "markdown",
   "id": "3cf7eaa0",
   "metadata": {},
   "source": [
    "## FBV, CBV\n",
    "\n",
    "- 장고에서는 크게 두 가지 유형으로 뷰를 개발할 수 있음\n",
    "    - 함수 기반 뷰(Function Based View; FBV)\n",
    "    - 클래스 기반 뷰(Class Based View; CBV)\n",
    "    \n",
    "- 뷰를 작성하는 방식의 차이일 뿐 기능 상 차이는 없음\n",
    "    - 지금까지 작성해온 뷰는 모두 FBV\n",
    "    \n",
    "- FBV와 CBV를 공통적으로 도와주는 도구가 APIView \n",
    "    - FBV에서는 @api_view 와 같이 데코레이터 형태로 APIView를 사용\n",
    "    - CBV에서는 APIView라는 클래스를 상속받는 클래스의 형태로 사용 "
   ]
  },
  {
   "cell_type": "markdown",
   "id": "cf5406dd",
   "metadata": {},
   "source": []
  },
  {
   "cell_type": "code",
   "execution_count": null,
   "id": "e87f8aaf",
   "metadata": {},
   "outputs": [],
   "source": [
    "\n",
    "# 클래스형 뷰로 HElloAPI 작성\n",
    "class HelloAPI(APIView):\n",
    "    def get(self, request, format = None):\n",
    "        return Response('hello world!')\n",
    "        "
   ]
  },
  {
   "cell_type": "code",
   "execution_count": null,
   "id": "89f1666f",
   "metadata": {},
   "outputs": [],
   "source": [
    "# example app / urls.py \n",
    "urlpatterns = [\n",
    "    path('hello/', helloAPI),\n",
    "    path('cbv/hello', HelloAPI.as_view()),\n",
    "]"
   ]
  },
  {
   "cell_type": "code",
   "execution_count": null,
   "id": "5247769f",
   "metadata": {},
   "outputs": [],
   "source": [
    "from rest_framework import status \n",
    "from rest_framework.response import Response # from django.shortcuts import render => 우리는 request만 할거기때문에 render 필요없음\n",
    "from rest_framework.views import APIView\n",
    "from rest_framework.decorators import api_view\n",
    "from rest_framework.generics import get_object_or_404 \n",
    "from example.models import Book \n",
    "from example.serializers import BookSerializer\n",
    "\n",
    "# Create your views here.\n",
    "@api_view(['GET'])\n",
    "def helloAPI(request):\n",
    "    return Response('hello world!')\n",
    "\n",
    "# 클래스형 뷰로 HElloAPI 작성\n",
    "class HelloAPI(APIView):\n",
    "    def get(self, request, format = None):\n",
    "        return Response('hello world!')\n",
    "        \n",
    "@api_view(['GET', 'POST']) # get/post 요청을 처리하게 만들어주는 데코레이터 \n",
    "def booksAPI(request): \n",
    "    if request.method == 'GET': # get 요청 (도서 전체 정보)\n",
    "        books = Book.objects.all() # book 모델로부터 전체 데이터 가져오기 \n",
    "\n",
    "        # 시리얼라이저에 전체 데이터를 집어넣기(직렬화)     # form 이랑 serializer 랑 역할이 굉장히 비슷함\n",
    "        serializer = BookSerializer(books, many = True) # many = True 여러개를 데이터를 집어넣어도 같이 직렬화를 해줌 \n",
    "        return Response(serializer.data, status = status.HTTP_200_OK) \n",
    "    \n",
    "    # 이제는 POST 요청이 왓을떄 \n",
    "    elif request.method == 'POST': # post 요청(도서 정보 등록)\n",
    "        # post 요청으로 들어온 데이터를 시리얼라이저에 집어넣기\n",
    "        serializer = BookSerializer(data = request.data)\n",
    "\n",
    "        if serializer.is_valid(): #  유효한 데이터라면 \n",
    "            # 시리얼라이저의 역질렬화를 통해 save(), 모델 시리얼라이저의 기본 create() 함수가 동작 \n",
    "            serializer.save()\n",
    "\n",
    "            # 201 메시지를 보내며 성공\n",
    "            return Response(serializer.data, status = status.HTTP_201_CREATED)\n",
    "        \n",
    "        # 400 잘못된 요청\n",
    "        return Response(serializer.errors, status=status.HTTP_400_BAD_REQUEST)\n",
    "    \n",
    "    @api_view(['GET'])\n",
    "    def bookAPI(request, bid): # bid: 책의 id number를 받을것임 \n",
    "        book = get_object_or_404(Book, bid = bid) # bid(컬럼명) = pk인 데이터를 Book에서 가져오고, 없으면 404 에러\n",
    "        serializer = BookSerializer(book) # 시리얼라이저에 데이터를 집어넣기(직렬화)\n",
    "        return Response(serializer.data, status=status.HTTP_200_OK)\n",
    "    \n",
    "        \n",
    "class BookAPI(APIView):\n",
    "    def get(self, requestm bid):\n",
    "        book = get_object_or_404(Book, bid=bid)\n",
    "        serializer = BookSerializer(book)\n",
    "        return Response(serializer.data, status=status.HTTP_200_OK)"
   ]
  },
  {
   "cell_type": "markdown",
   "id": "16d67818",
   "metadata": {},
   "source": [
    "- booksAPI 와 bookAPI는 다른 개념임 "
   ]
  },
  {
   "cell_type": "markdown",
   "id": "b87c795e",
   "metadata": {},
   "source": [
    "- booksAPI 는 하나의 함수에서 get인지 post인지에 따라 다르게 처리함 \n",
    "    - get은 도서 전체 정보를 가져오므로 모델로부터 데이터를 가져와 시리얼라이저를 통해 직렬화\n",
    "    - 이 때, Book.objects.all() 명령어의 결과가 여러 데이터일 수 있기 때문에 many = True 옵션을 설정 \n",
    "    \n",
    "    - post 요청에 대해서는 요청으로 들어온 데이터를 역질렬화하여 모델에 넣어야 하므로 시리얼라이저에 request.data를 넣음\n",
    "    \n",
    "- bookAPI 는 특정 bid의 책 데이터를 가져옴\n",
    "    - 함수의 인자로 id를 넘겨받아와 이를 모델에서 찾음\n",
    "    - 찾은 데이터를 반환 "
   ]
  },
  {
   "cell_type": "code",
   "execution_count": null,
   "id": "fe6ee1b0",
   "metadata": {},
   "outputs": [],
   "source": [
    "{\n",
    "    \"bid\" : 1,\n",
    "    \"title\" : \"코딩 테스트 합격자 되기 - C++ 편\",\n",
    "    \"author\" : \"박경록\",\n",
    "    \"category\" : \"프로그래밍\",\n",
    "    \"pages\" : 872,\n",
    "    \"price\" : 40500,\n",
    "    \"published_date\" : \"2024-05-01\",\n",
    "    \"description\" : \"프로그래머스 제공 100 문제로 완벽 대비\"\n",
    "}"
   ]
  },
  {
   "cell_type": "code",
   "execution_count": null,
   "id": "92a232e8",
   "metadata": {},
   "outputs": [],
   "source": [
    "{\n",
    "    \"bid\" : 2,\n",
    "    \"title\" : \"AI 2024\",\n",
    "    \"author\" : \"김덕진\",\n",
    "    \"category\" : \"프로그래밍\",\n",
    "    \"pages\" : 416,\n",
    "    \"price\" : 19800,\n",
    "    \"published_date\" : \"2023-10-25\",\n",
    "    \"description\" : \"트랜드&활용백과\"\n",
    "}"
   ]
  },
  {
   "cell_type": "code",
   "execution_count": null,
   "id": "2274818a",
   "metadata": {},
   "outputs": [],
   "source": [
    "{\n",
    "    \"bid\" : 4,\n",
    "    \"title\" : \"생성형 AI로 웹툰 만화 제작하기\",\n",
    "    \"author\" : \"김한재 \",\n",
    "    \"category\" : \"프로그래밍\",\n",
    "    \"pages\" : 232,\n",
    "    \"price\" : 22500,\n",
    "    \"published_date\" : \"202-04-03\",\n",
    "    \"description\" : \"스테이블 디퓨전·미드저니·챗GPT\"\n",
    "}"
   ]
  },
  {
   "cell_type": "markdown",
   "id": "eea47b91",
   "metadata": {},
   "source": [
    "## DRF의 다양한 뷰\n",
    "\n",
    "- DRF로 API로 개발할때 만들어야 하는 기능은 크게 3가지\n",
    "    - 전체 데이터 가져오기(get)(list)\n",
    "    - 1개 정보 등록하기 (post)(create)\n",
    "    - 1개 정보 가져오기 (get)(retrieve)\n",
    "    - 1개 정보 수정하기 (put)(update)\n",
    "    - 1개 정보 삭제하기 (delete)(destroy)\n",
    "    \n",
    "- 이 5가지 기능을 만드는 방법은 일일이 각 메소드별로 나눠 처리하도록 작성하는 것 \n",
    "    - 위의 기능들을 최대한 편하고 쉽게 만들기 위해 발전된 방법이 mixins, generics, Viewset"
   ]
  },
  {
   "cell_type": "code",
   "execution_count": null,
   "id": "415953c5",
   "metadata": {},
   "outputs": [],
   "source": [
    "# example / views,py \n",
    "\n",
    "from rest_framework import status, generics, mixins"
   ]
  },
  {
   "cell_type": "code",
   "execution_count": null,
   "id": "174460ba",
   "metadata": {},
   "outputs": [],
   "source": [
    "# example / urls.py "
   ]
  },
  {
   "cell_type": "markdown",
   "id": "a864d0bc",
   "metadata": {},
   "source": [
    "## DRF generics\n",
    "\n",
    "- mixins 방법에서는 mixins를 상속받는데 한 번에 2~3개씩 상속을 받아야 하는 번거로움이 있ㅇ므\n",
    "    - 따라서 DRF에서는 mixins를 조합해서 미리 generics를 만들어둠\n",
    "    \n",
    "- generics 의 조합 종류\n",
    "    - 전체 목록 (generics.ListAPIView)\n",
    "    - 생성 (generics.CreateAPIView)\n",
    "    - 1개 조회 (generics.RetrieveAPIView)\n",
    "    - 1개 수정 (generics.UpdateAPIView)\n",
    "    - 1개 삭제 (generics.DestroyAPIView)\n",
    "    - 전체 목록 + 생성 (generics.ListCreateAPIView)\n",
    "    - 1개 조회 + 1개 수정 (generics.RetrieveUpdateAPIView)\n",
    "    - 1개 조회 + 1개 삭제 (generics.RetrieveDestroyAPIView)\n",
    "    - 1개 조회 + 1개 수정 + 1개 삭제 (generics.RestrieveUpdateDestroyAPIView)"
   ]
  },
  {
   "cell_type": "markdown",
   "id": "5bee5ebb",
   "metadata": {},
   "source": [
    "## DRF Viewset & Router \n",
    "\n",
    "- 지금까지 작업했던 것은 하나의 클래스가 하나의 URL을 담당하는 방식\n",
    "    - URL마다 클래스를 만들고 각 클래스에서는 해당 URL로 들어오는 다양한 메소드를 처리할 수 있도록 하였음 \n",
    "    \n",
    "- 따라서 queryset 이나 serializer_class 부분이 겹치게 됨\n",
    "    - 하나의 클래스로 하나의 모델을 전부 처리해줄 수 있다면 겹치는 부분이 없어짐 \n",
    "    \n",
    "- Viewset과 Router 사용의 장점\n",
    "    - 하나의 클래스로 하나의 모델에 대한 내용을 전부 작성할 수 잇으며, 그에 따라 queryset 이나 serializer_class 등 겹치는 부분을 최소화 할수 있음\n",
    "    - 라우터를 통해 URL을 일일이 지정하지 않아도 일정한 규칙의 URL을 만들 수 있음 "
   ]
  },
  {
   "cell_type": "code",
   "execution_count": null,
   "id": "f300f5af",
   "metadata": {},
   "outputs": [],
   "source": [
    "# example / views.py\n",
    "from rest_framework import status, generics, mixins, viewsets\n",
    "\n",
    "class BookViewSet(viewsets.ModelViewSet):\n",
    "    queryset = Book.objects.all()\n",
    "    serializer_class = BookSerializer"
   ]
  },
  {
   "cell_type": "markdown",
   "id": "32658ed9",
   "metadata": {},
   "source": [
    "- ModelViewSet을 가져와 클래스를 만들면 queryset 과 serializer_class 를 설정해주는 것으로 모델에 대한 기본적인 REST API 가 완성됨\n",
    "- ModelViewSet은 내부적으로 CreateModelMixin, RetrieveModelMixin, UpdateModelMixin, DestroyModelMixin, ListModelMixin을 사용함 \n",
    "\n",
    "- ViewSet은 URL과 연결할 때 라우터를 사용함 "
   ]
  },
  {
   "cell_type": "code",
   "execution_count": null,
   "id": "0b6ee2b8",
   "metadata": {},
   "outputs": [],
   "source": [
    "# example / urls.py\n"
   ]
  },
  {
   "cell_type": "markdown",
   "id": "250003b5",
   "metadata": {},
   "source": [
    "# 정리 ( ViewSet & Router 뚝딱) \n",
    "\n",
    "- Mixins와 generics, ViewSet & Router까지 점점 코드가 짧아지고 DRF가 대신 만들어주는 기능들이 많아짐 \n",
    "    - 개발자가 할 일이 적어진다는 점은 장점이지만 개발자의 자유도가 낮아진다는 것은 단점 \n",
    "        - 어떤 기능을 수정할 일이 생길 때 어려움을 겪을 수 있음 \n",
    "        \n",
    "- 특정한 방식이 반드시 정답인 것은 아님 \n",
    "    - 상황에 따라 적절히 잘 활용할 수 있어야 하고 백엔드 구조가 아직 익숙하지 않다면 일일이 구현하는 것을 추천 "
   ]
  },
  {
   "cell_type": "code",
   "execution_count": null,
   "id": "8f857b37",
   "metadata": {},
   "outputs": [],
   "source": []
  }
 ],
 "metadata": {
  "kernelspec": {
   "display_name": "Python 3 (ipykernel)",
   "language": "python",
   "name": "python3"
  },
  "language_info": {
   "codemirror_mode": {
    "name": "ipython",
    "version": 3
   },
   "file_extension": ".py",
   "mimetype": "text/x-python",
   "name": "python",
   "nbconvert_exporter": "python",
   "pygments_lexer": "ipython3",
   "version": "3.11.5"
  }
 },
 "nbformat": 4,
 "nbformat_minor": 5
}
