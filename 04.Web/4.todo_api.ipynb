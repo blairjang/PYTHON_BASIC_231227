{
 "cells": [
  {
   "cell_type": "code",
   "execution_count": null,
   "id": "925ca4ea",
   "metadata": {},
   "outputs": [],
   "source": [
    "conda activate base\n",
    "django-admin startproejct mytodo .\n",
    "python manage.py makemigrations\n",
    "python manage.py migrate\n",
    "python manage.py createsuperuser\n"
   ]
  },
  {
   "cell_type": "code",
   "execution_count": null,
   "id": "7be82fca",
   "metadata": {},
   "outputs": [],
   "source": [
    "INSTALLED_APPS = [\n",
    "    \"django.contrib.admin\",\n",
    "    \"django.contrib.auth\",\n",
    "    \"django.contrib.contenttypes\",\n",
    "    \"django.contrib.sessions\",\n",
    "    \"django.contrib.messages\",\n",
    "    \"django.contrib.staticfiles\",\n",
    "    \"rest_framwork\"\n",
    "    \"todo\",\n",
    "]\n",
    "\n",
    "TIME_ZONE = \"Asia/Seoul\""
   ]
  },
  {
   "cell_type": "code",
   "execution_count": null,
   "id": "745b3201",
   "metadata": {},
   "outputs": [],
   "source": [
    "# todo / models.py\n",
    "from django.db import models\n",
    "\n",
    "# Create your models here.\n",
    "class Todo(models.Model):\n",
    "    title = models.CharField(max_length = 100)\n",
    "    description = models.TextField(blank = True)\n",
    "    created = models.DateTimeField(auto_now_add = True)\n",
    "    complete = models.BooleanField(default = False)\n",
    "    important = models.BooleanField(default = False)\n",
    "\n",
    "    def __str__(self):\n",
    "        return self.title"
   ]
  },
  {
   "cell_type": "markdown",
   "id": "1b8f16ce",
   "metadata": {},
   "source": [
    "- 모델 만들었으니 makemigrations - > migrate\n",
    "\n",
    "- todo 전체 조회 api 만들기\n",
    "    - 전체 조회용 시리얼라이저\n",
    "        - 제목, 완료 여부, 중요 여부만 포함한 간단한 시리얼라이저\n",
    "        \n",
    "    - 뷰\n",
    "        - complete 가 False인 todo를 조회 \n",
    "        - get 방식으로 요청을 처리\n",
    "        \n",
    "    - urls\n",
    "        - 127.0.0.1:8000/todo/"
   ]
  },
  {
   "cell_type": "code",
   "execution_count": null,
   "id": "596eeb4e",
   "metadata": {},
   "outputs": [],
   "source": [
    "# todo / serializers.py\n",
    "\n",
    "from rest_framework import serializers\n",
    "from todo.models import Todo\n",
    "\n",
    "class TodoSimpleSerializers(serializers.ModelSerializer):\n",
    "    class Meta:\n",
    "        model = Todo\n",
    "        fields = ('id', 'title', 'complete', 'important')"
   ]
  },
  {
   "cell_type": "code",
   "execution_count": null,
   "id": "55410d7a",
   "metadata": {},
   "outputs": [],
   "source": [
    "# todo / views.py\n",
    "\n",
    "class TodosAPIView(APIView):\n",
    "    def get(self, request):\n",
    "        todos = Todo.objects.filter(complete = False)\n",
    "        serializer = TodoSimpleSerializers(todos, many = True)\n",
    "        return Response(serializer.data, status=status.HTTP_200_OK)\n"
   ]
  },
  {
   "cell_type": "code",
   "execution_count": null,
   "id": "633ec731",
   "metadata": {},
   "outputs": [],
   "source": [
    "# mytodo / urls.py \n",
    "from rest_framework import status\n",
    "from rest_framework.response import Response # 기본응답  \n",
    "from rest_framework.views import APIView\n",
    "from todo.models import Todo\n",
    "from todo.serializers import TodoSimpleSerializers\n",
    "\n",
    "from django.contrib import admin\n",
    "from django.urls import path, include\n",
    "\n",
    "urlpatterns = [\n",
    "    path(\"admin/\", admin.site.urls),\n",
    "    path('todo/', include('todo.urls')),\n",
    "]"
   ]
  },
  {
   "cell_type": "code",
   "execution_count": null,
   "id": "81322aaa",
   "metadata": {},
   "outputs": [],
   "source": [
    "from django.urls import path\n",
    "from todo import views\n",
    "\n",
    "urlpatterns = [\n",
    "    path('', views.TodosAPIView.as_view()),\n",
    "]"
   ]
  },
  {
   "cell_type": "markdown",
   "id": "4a23de31",
   "metadata": {},
   "source": [
    "- 상세 조회 기능 개발\n",
    "    - 시리얼라이저\n",
    "        - Todo 모델에서 id, 제목, 설명, 작성일자, 완료여부, 중요 여부 를 포함 \n",
    "        \n",
    "    - 뷰\n",
    "        - id를 입력받으면 해당 id의 Todo 데이터를 조회 \n",
    "        - get (조회)\n",
    "        \n",
    "    - url\n",
    "        -  127.0.0.1:8000/todo/조회하려는 todo의 id/"
   ]
  },
  {
   "cell_type": "markdown",
   "id": "3dac4f94",
   "metadata": {},
   "source": [
    "- todo 생성 api 개발 \n",
    "    - 시리얼라이저\n",
    "        - todo 생성에 필요한 입력값은 title과 description, important \n",
    "        \n",
    "    - 뷰 \n",
    "        - post 요청 \n",
    "        - post 요청으로 전달받은 데이터에서 시리얼라이저에서 유효성 검사를 받고 todo 데이터 추가 \n",
    "        \n",
    "    - url\n",
    "        - (post) 127.0.0.1:8000/todo/"
   ]
  },
  {
   "cell_type": "code",
   "execution_count": null,
   "id": "515cda30",
   "metadata": {},
   "outputs": [],
   "source": [
    "{\n",
    "    \"title\": \"야근\",\n",
    "    \"description\": \"웹 복습하자\",\n",
    "    \"important\" : false\n",
    "}"
   ]
  },
  {
   "cell_type": "markdown",
   "id": "c77ec03f",
   "metadata": {},
   "source": [
    "- 수정 & 완료 기능\n",
    "    - 수정 기능\n",
    "        - 시리얼라이저\n",
    "            - 입력값은 title과 descripton, important \n",
    "            \n",
    "        - 뷰\n",
    "            - id를 입력받고 id가 일치하는 (수정할) 데이터를 조회하고 조회되지 않으면 404에러 \n",
    "            - 유효성 검사 후 유효하면 데이터 수정 \n",
    "\n",
    "        - urls\n",
    "            - (put) 127.0.0.1:8000/todo/ 수정할 todo의 id/\n",
    "            \n",
    "    - 완료 목록 조회 기능 \n",
    "        - 시리얼라이저 \n",
    "            - id, title, complete, important 사용 \n",
    "            \n",
    "        - 뷰\n",
    "            - complete 가 True 인 데이터 조회\n",
    "        \n",
    "        - urls \n",
    "            - (get)1 27.0.0.1:8000/todo/done/\n",
    "            \n",
    "    - 완료 기능\n",
    "        - 시리얼라이저 \n",
    "            - id, title, description, created, complete, important\n",
    "            \n",
    "        - 뷰 \n",
    "            - id를 입력받고 id가 일치하는 (완료할) 데이터를 조회하고 조회되지 않으면 404에러\n",
    "            - 조회된 데이터의 complete 속성 값을 True로 변환 후 저장 \n",
    "        \n",
    "        - urls \n",
    "            - (get)1 27.0.0.1:8000/todo/done/완료할 todo의 id/ \n",
    "            "
   ]
  },
  {
   "cell_type": "code",
   "execution_count": null,
   "id": "7876d400",
   "metadata": {},
   "outputs": [],
   "source": []
  },
  {
   "cell_type": "code",
   "execution_count": null,
   "id": "e31f29f3",
   "metadata": {},
   "outputs": [],
   "source": []
  },
  {
   "cell_type": "code",
   "execution_count": null,
   "id": "7374ef20",
   "metadata": {},
   "outputs": [],
   "source": []
  },
  {
   "cell_type": "code",
   "execution_count": null,
   "id": "ac098332",
   "metadata": {},
   "outputs": [],
   "source": []
  },
  {
   "cell_type": "code",
   "execution_count": null,
   "id": "7311c626",
   "metadata": {},
   "outputs": [],
   "source": []
  },
  {
   "cell_type": "code",
   "execution_count": null,
   "id": "e54517ce",
   "metadata": {},
   "outputs": [],
   "source": []
  },
  {
   "cell_type": "code",
   "execution_count": null,
   "id": "01bcb3a9",
   "metadata": {},
   "outputs": [],
   "source": []
  },
  {
   "cell_type": "code",
   "execution_count": null,
   "id": "9e26e46c",
   "metadata": {},
   "outputs": [],
   "source": []
  },
  {
   "cell_type": "code",
   "execution_count": null,
   "id": "61d76fca",
   "metadata": {},
   "outputs": [],
   "source": []
  },
  {
   "cell_type": "code",
   "execution_count": null,
   "id": "dcafe098",
   "metadata": {},
   "outputs": [],
   "source": []
  },
  {
   "cell_type": "code",
   "execution_count": null,
   "id": "5b42c7c3",
   "metadata": {},
   "outputs": [],
   "source": []
  },
  {
   "cell_type": "code",
   "execution_count": null,
   "id": "bbf69059",
   "metadata": {},
   "outputs": [],
   "source": []
  }
 ],
 "metadata": {
  "kernelspec": {
   "display_name": "Python 3 (ipykernel)",
   "language": "python",
   "name": "python3"
  },
  "language_info": {
   "codemirror_mode": {
    "name": "ipython",
    "version": 3
   },
   "file_extension": ".py",
   "mimetype": "text/x-python",
   "name": "python",
   "nbconvert_exporter": "python",
   "pygments_lexer": "ipython3",
   "version": "3.11.5"
  }
 },
 "nbformat": 4,
 "nbformat_minor": 5
}
