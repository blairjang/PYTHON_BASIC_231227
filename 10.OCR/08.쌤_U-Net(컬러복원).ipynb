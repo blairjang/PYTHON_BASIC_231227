{
 "cells": [
  {
   "cell_type": "code",
   "execution_count": 4,
   "id": "aeb41a5f",
   "metadata": {},
   "outputs": [],
   "source": [
    "from keras import models, backend, datasets, utils\n",
    "from keras.layers import (Input, Conv2D, MaxPool2D, Dropout, Activation, UpSampling2D,\n",
    "                          BatchNormalization, Concatenate)"
   ]
  },
  {
   "cell_type": "markdown",
   "id": "7818d440",
   "metadata": {},
   "source": [
    "# UNET 모델링"
   ]
  },
  {
   "cell_type": "code",
   "execution_count": 3,
   "id": "7e9ec3f9",
   "metadata": {},
   "outputs": [],
   "source": [
    "class UNET(models.Model):\n",
    "    def __init__(self, org_shape, n_ch):\n",
    "        ic = 3 if backend.image_data_format() == \"channels_last\" else 1\n",
    "        \n",
    "        def conv(x, n_f, mp_flag = True):\n",
    "            x = MaxPool2D((2, 2), padding = \"same\")(x) if mp_flag else x\n",
    "            x = Conv2D(n_f, (3, 3), padding = \"same\")(x)\n",
    "            x = BatchNormalization()(x)\n",
    "            x = Activation(\"tanh\")(x)\n",
    "            x = Dropout(0.05)(x)\n",
    "            x = Conv2D(n_f, (3, 3), padding = \"same\")(x)\n",
    "            x = BatchNormalization()(x)\n",
    "            x = Activation(\"tanh\")(x)\n",
    "            return x\n",
    "\n",
    "        def deconv_unet(x, e, n_f):\n",
    "            x = UpSampling2D((2, 2))(x)\n",
    "            x = Concatenate(axis = ic)([x, e])\n",
    "            x = Conv2D(n_f, (3, 3), padding = \"same\")(x)\n",
    "            x = BatchNormalization()(x)\n",
    "            x = Activation(\"tanh\")(x)\n",
    "            x = Conv2D(n_f, (3, 3), padding = \"same\")(x)\n",
    "            x = BatchNormalization()(x)\n",
    "            x = Activation(\"tanh\")(x)\n",
    "            return x\n",
    "\n",
    "        original = Input(shape = org_shape)\n",
    "        # Encoding\n",
    "        c1 = conv(original, 16, mp_flag = False)\n",
    "        c2 = conv(c1, 32)\n",
    "\n",
    "        encoded = conv(c2, 64)\n",
    "\n",
    "        # Decoding\n",
    "        x = deconv_unet(encoded, c2, 32)\n",
    "        x = deconv_unet(x, c1, 16)\n",
    "\n",
    "        decoded = Conv2D(n_ch, (3, 3), activation = \"sigmoid\", padding = \"same\")(x)\n",
    "\n",
    "        super().__init__(original, decoded)\n",
    "        self.compile(optimizer = \"adadelta\", loss = \"mse\")"
   ]
  },
  {
   "cell_type": "markdown",
   "id": "063110e3",
   "metadata": {},
   "source": [
    "# 데이터 준비"
   ]
  },
  {
   "cell_type": "code",
   "execution_count": 5,
   "id": "cf274fdc",
   "metadata": {},
   "outputs": [],
   "source": [
    "class DATA():\n",
    "    def __init__(self, in_ch = None):\n",
    "        (x_train, y_train), (x_test, y_test) = datasets.cifar10.load_data()\n",
    "        \n",
    "        if x_train.ndim == 4:\n",
    "            if backend.image_data_format() == \"channels_first\":\n",
    "                n_ch, img_rows, img_cols = x_train.shape[1:]\n",
    "            else:\n",
    "                img_rows, img_cols, n_ch = x_train.shape[1:]\n",
    "                \n",
    "        else:\n",
    "            img_rows, img_cols = x_train.shape[1:]\n",
    "            n_ch = 1\n",
    "            \n",
    "        in_ch = n_ch if in_ch is None else in_ch\n",
    "        \n",
    "        x_train = x_train.astype(\"float32\")\n",
    "        x_test = x_test.astype(\"float32\")\n",
    "        x_train /= 255\n",
    "        x_test /= 255\n",
    "        \n",
    "        # 컬러 -> 흑백 변환 함수\n",
    "        def RGB2Gray(X, fmt):\n",
    "            if fmt == \"channels_first\":\n",
    "                R = X[:, 0:1]\n",
    "                G = X[:, 1:2]\n",
    "                B = X[:, 2:3]\n",
    "            else:\n",
    "                R = X[..., 0:1]\n",
    "                G = X[..., 1:2]\n",
    "                B = X[..., 2:3]\n",
    "            return 0.299 * R + 0.587 * G + 0.114 * B\n",
    "        \n",
    "        if backend.image_data_format() == \"channels_first\":\n",
    "            x_train_out = x_train.reshape(x_train.shape[0], n_ch, img_rows, img_cols)\n",
    "            x_test_out = x_test.reshape(x_test.shape[0], n_ch, img_rows, img_cols)\n",
    "            input_shape = (in_ch, img_rows, img_cols)\n",
    "            \n",
    "        else:\n",
    "            x_train_out = x_train.reshape(x_train.shape[0], img_rows, img_cols, n_ch)\n",
    "            x_test_out = x_test.reshape(x_test.shape[0], img_rows, img_cols, n_ch)\n",
    "            input_shape = (img_rows, img_cols, in_ch)\n",
    "            \n",
    "        # 그레이 스케일 변환 적용\n",
    "        if in_ch == 1 and n_ch == 3:\n",
    "            x_train_in = RGB2Gray(x_train_out, backend.image_data_format())\n",
    "            x_test_in = RGB2Gray(x_test_out, backend.image_data_format())\n",
    "        else:\n",
    "            x_train_in = x_train_out\n",
    "            x_test_in = x_test_out\n",
    "            \n",
    "        # 인스턴스 변수 변환\n",
    "        self.input_shape = input_shape\n",
    "        self.x_train_in, self.x_train_out = x_train_in, x_train_out\n",
    "        self.x_test_in, self.x_test_out = x_test_in, x_test_out\n",
    "        self.n_ch = n_ch\n",
    "        self.in_ch = in_ch"
   ]
  },
  {
   "cell_type": "markdown",
   "id": "3caac9bb",
   "metadata": {},
   "source": [
    "# 학습"
   ]
  },
  {
   "cell_type": "code",
   "execution_count": 6,
   "id": "89bf069a",
   "metadata": {},
   "outputs": [],
   "source": [
    "data = DATA(in_ch = 1)"
   ]
  },
  {
   "cell_type": "code",
   "execution_count": 7,
   "id": "53cf45fd",
   "metadata": {},
   "outputs": [
    {
     "name": "stdout",
     "output_type": "stream",
     "text": [
      "WARNING:tensorflow:From C:\\ProgramData\\anaconda3\\Lib\\site-packages\\keras\\src\\backend.py:1398: The name tf.executing_eagerly_outside_functions is deprecated. Please use tf.compat.v1.executing_eagerly_outside_functions instead.\n",
      "\n",
      "WARNING:tensorflow:From C:\\ProgramData\\anaconda3\\Lib\\site-packages\\keras\\src\\layers\\normalization\\batch_normalization.py:979: The name tf.nn.fused_batch_norm is deprecated. Please use tf.compat.v1.nn.fused_batch_norm instead.\n",
      "\n",
      "WARNING:tensorflow:From C:\\ProgramData\\anaconda3\\Lib\\site-packages\\keras\\src\\optimizers\\__init__.py:309: The name tf.train.Optimizer is deprecated. Please use tf.compat.v1.train.Optimizer instead.\n",
      "\n"
     ]
    }
   ],
   "source": [
    "unet = UNET(data.input_shape, data.n_ch)"
   ]
  },
  {
   "cell_type": "code",
   "execution_count": null,
   "id": "c44fe404",
   "metadata": {},
   "outputs": [
    {
     "name": "stdout",
     "output_type": "stream",
     "text": [
      "Epoch 1/10\n",
      "WARNING:tensorflow:From C:\\ProgramData\\anaconda3\\Lib\\site-packages\\keras\\src\\utils\\tf_utils.py:492: The name tf.ragged.RaggedTensorValue is deprecated. Please use tf.compat.v1.ragged.RaggedTensorValue instead.\n",
      "\n",
      "313/313 [==============================] - 94s 286ms/step - loss: 0.0857 - val_loss: 0.0674\n",
      "Epoch 2/10\n",
      "313/313 [==============================] - 90s 286ms/step - loss: 0.0627 - val_loss: 0.0519\n",
      "Epoch 3/10\n",
      "313/313 [==============================] - 88s 280ms/step - loss: 0.0500 - val_loss: 0.0437\n",
      "Epoch 4/10\n",
      "217/313 [===================>..........] - ETA: 23s - loss: 0.0436"
     ]
    }
   ],
   "source": [
    "history = unet.fit(data.x_train_in, data.x_train_out,\n",
    "                   epochs = 10,\n",
    "                   batch_size = 128,\n",
    "                   shuffle = True,\n",
    "                   validation_split = 0.2)"
   ]
  },
  {
   "cell_type": "code",
   "execution_count": null,
   "id": "8908d746",
   "metadata": {},
   "outputs": [],
   "source": []
  },
  {
   "cell_type": "code",
   "execution_count": null,
   "id": "988fbed5",
   "metadata": {},
   "outputs": [],
   "source": []
  },
  {
   "cell_type": "code",
   "execution_count": null,
   "id": "dbb256c2",
   "metadata": {},
   "outputs": [],
   "source": []
  },
  {
   "cell_type": "code",
   "execution_count": null,
   "id": "7dbb77ed",
   "metadata": {},
   "outputs": [],
   "source": []
  },
  {
   "cell_type": "code",
   "execution_count": null,
   "id": "febe1a25",
   "metadata": {},
   "outputs": [],
   "source": []
  },
  {
   "cell_type": "code",
   "execution_count": null,
   "id": "c096392e",
   "metadata": {},
   "outputs": [],
   "source": []
  },
  {
   "cell_type": "code",
   "execution_count": null,
   "id": "fe2774cd",
   "metadata": {},
   "outputs": [],
   "source": []
  },
  {
   "cell_type": "code",
   "execution_count": null,
   "id": "3e336c87",
   "metadata": {},
   "outputs": [],
   "source": []
  },
  {
   "cell_type": "code",
   "execution_count": null,
   "id": "40763a88",
   "metadata": {},
   "outputs": [],
   "source": []
  },
  {
   "cell_type": "code",
   "execution_count": null,
   "id": "7afaa4b9",
   "metadata": {},
   "outputs": [],
   "source": []
  },
  {
   "cell_type": "code",
   "execution_count": null,
   "id": "1e82ba27",
   "metadata": {},
   "outputs": [],
   "source": []
  },
  {
   "cell_type": "code",
   "execution_count": null,
   "id": "6912fb2c",
   "metadata": {},
   "outputs": [],
   "source": []
  },
  {
   "cell_type": "code",
   "execution_count": null,
   "id": "678873b6",
   "metadata": {},
   "outputs": [],
   "source": []
  },
  {
   "cell_type": "code",
   "execution_count": null,
   "id": "3a241d2e",
   "metadata": {},
   "outputs": [],
   "source": []
  },
  {
   "cell_type": "code",
   "execution_count": null,
   "id": "3f756a74",
   "metadata": {},
   "outputs": [],
   "source": []
  },
  {
   "cell_type": "code",
   "execution_count": null,
   "id": "274ed20d",
   "metadata": {},
   "outputs": [],
   "source": []
  },
  {
   "cell_type": "code",
   "execution_count": null,
   "id": "f751b1ce",
   "metadata": {},
   "outputs": [],
   "source": []
  },
  {
   "cell_type": "code",
   "execution_count": null,
   "id": "ffe7b8a7",
   "metadata": {},
   "outputs": [],
   "source": []
  }
 ],
 "metadata": {
  "kernelspec": {
   "display_name": "Python 3 (ipykernel)",
   "language": "python",
   "name": "python3"
  },
  "language_info": {
   "codemirror_mode": {
    "name": "ipython",
    "version": 3
   },
   "file_extension": ".py",
   "mimetype": "text/x-python",
   "name": "python",
   "nbconvert_exporter": "python",
   "pygments_lexer": "ipython3",
   "version": "3.11.5"
  }
 },
 "nbformat": 4,
 "nbformat_minor": 5
}
