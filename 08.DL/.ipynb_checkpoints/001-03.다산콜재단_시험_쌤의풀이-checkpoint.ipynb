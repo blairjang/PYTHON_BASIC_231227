{
 "cells": [
  {
   "cell_type": "markdown",
   "id": "24ea9059",
   "metadata": {},
   "source": [
    "- 제시된 다산콜센터 데이터에서 “문서” 컬럼을 독립변수로 하여 “분류” 컬럼 을 예측하는 딥러닝 모델을 개발하고\n",
    "\n",
    "- 모델 개발 과정과 테스트 데이터셋에 대한 accuracy를 답안으로 작성하시오"
   ]
  },
  {
   "cell_type": "code",
   "execution_count": 1,
   "id": "c0f9d03a",
   "metadata": {},
   "outputs": [],
   "source": [
    "import numpy as np\n",
    "import pandas as pd\n",
    "import matplotlib.pyplot as plt\n",
    "import seaborn as sns\n",
    "import re\n",
    "from sklearn.model_selection import train_test_split\n",
    "from konlpy.tag import Okt\n",
    "from tensorflow import keras\n",
    "from tensorflow.keras.preprocessing.text import Tokenizer\n",
    "from tensorflow.keras.preprocessing.sequence import pad_sequences"
   ]
  },
  {
   "cell_type": "markdown",
   "id": "a05a6922",
   "metadata": {},
   "source": [
    "## 데이터 불러오기"
   ]
  },
  {
   "cell_type": "code",
   "execution_count": 2,
   "id": "91bff18b",
   "metadata": {},
   "outputs": [
    {
     "data": {
      "text/html": [
       "<div>\n",
       "<style scoped>\n",
       "    .dataframe tbody tr th:only-of-type {\n",
       "        vertical-align: middle;\n",
       "    }\n",
       "\n",
       "    .dataframe tbody tr th {\n",
       "        vertical-align: top;\n",
       "    }\n",
       "\n",
       "    .dataframe thead th {\n",
       "        text-align: right;\n",
       "    }\n",
       "</style>\n",
       "<table border=\"1\" class=\"dataframe\">\n",
       "  <thead>\n",
       "    <tr style=\"text-align: right;\">\n",
       "      <th></th>\n",
       "      <th>번호</th>\n",
       "      <th>분류</th>\n",
       "      <th>제목</th>\n",
       "      <th>내용</th>\n",
       "      <th>내용번호</th>\n",
       "      <th>문서</th>\n",
       "    </tr>\n",
       "  </thead>\n",
       "  <tbody>\n",
       "    <tr>\n",
       "      <th>0</th>\n",
       "      <td>2645</td>\n",
       "      <td>복지</td>\n",
       "      <td>아빠 육아휴직 장려금</td>\n",
       "      <td>아빠 육아휴직 장려금   업무개요  남성근로자의 육아휴직을 장려하고 양육에 따른 경...</td>\n",
       "      <td>23522464</td>\n",
       "      <td>아빠 육아휴직 장려금아빠 육아휴직 장려금   업무개요  남성근로자의 육아휴직을 장려...</td>\n",
       "    </tr>\n",
       "    <tr>\n",
       "      <th>1</th>\n",
       "      <td>2644</td>\n",
       "      <td>경제</td>\n",
       "      <td>[서울산업진흥원] 서울메이드란?</td>\n",
       "      <td>서울산업진흥원 서울메이드란 서울의 감성을 담은 다양하고 새로운 경험을 제공하기 위해...</td>\n",
       "      <td>23194045</td>\n",
       "      <td>[서울산업진흥원] 서울메이드란?서울산업진흥원 서울메이드란 서울의 감성을 담은 다양하...</td>\n",
       "    </tr>\n",
       "    <tr>\n",
       "      <th>2</th>\n",
       "      <td>2642</td>\n",
       "      <td>복지</td>\n",
       "      <td>광진맘택시 운영(임산부,영아 양육가정 전용 택시)</td>\n",
       "      <td>광진맘택시 운영임산부영아 양육가정 전용 택시  업무개요 교통약자인 임산부와 영아가정...</td>\n",
       "      <td>22904492</td>\n",
       "      <td>광진맘택시 운영(임산부,영아 양육가정 전용 택시)광진맘택시 운영임산부영아 양육가정 ...</td>\n",
       "    </tr>\n",
       "    <tr>\n",
       "      <th>3</th>\n",
       "      <td>2641</td>\n",
       "      <td>복지</td>\n",
       "      <td>마포 뇌병변장애인 비전센터</td>\n",
       "      <td>마포 뇌병변장애인 비전센터 마포뇌병변장애인 비전센터 운영   구분 내용  목적  학...</td>\n",
       "      <td>22477798</td>\n",
       "      <td>마포 뇌병변장애인 비전센터마포 뇌병변장애인 비전센터 마포뇌병변장애인 비전센터 운영 ...</td>\n",
       "    </tr>\n",
       "    <tr>\n",
       "      <th>4</th>\n",
       "      <td>2640</td>\n",
       "      <td>행정</td>\n",
       "      <td>2021년도 중1·고1 신입생 입학준비금 지원</td>\n",
       "      <td>년도 중고 신입생 입학준비금 지원  업무개요  서울시는 전국 최초로 년도부터 개 자...</td>\n",
       "      <td>22227896</td>\n",
       "      <td>2021년도 중1·고1 신입생 입학준비금 지원년도 중고 신입생 입학준비금 지원  업...</td>\n",
       "    </tr>\n",
       "    <tr>\n",
       "      <th>...</th>\n",
       "      <td>...</td>\n",
       "      <td>...</td>\n",
       "      <td>...</td>\n",
       "      <td>...</td>\n",
       "      <td>...</td>\n",
       "      <td>...</td>\n",
       "    </tr>\n",
       "    <tr>\n",
       "      <th>2133</th>\n",
       "      <td>12</td>\n",
       "      <td>경제</td>\n",
       "      <td>농산물소득분석 자료를 열람하고자 하는데 가능한가요?</td>\n",
       "      <td>농산물소득분석 자료를 열람하고자 하는데 가능한가요 예 가능하십니다    농촌진흥청 ...</td>\n",
       "      <td>2896820</td>\n",
       "      <td>농산물소득분석 자료를 열람하고자 하는데 가능한가요?농산물소득분석 자료를 열람하고자 ...</td>\n",
       "    </tr>\n",
       "    <tr>\n",
       "      <th>2134</th>\n",
       "      <td>8</td>\n",
       "      <td>행정</td>\n",
       "      <td>제가 휠체어를 사용하여야 하는 장애인인데 교육원에서 교육을 받을 수 있나요?</td>\n",
       "      <td>제가 휠체어를 사용하여야 하는 장애인인데 교육원에서 교육을 받을 수 있나요  우리교...</td>\n",
       "      <td>2894409</td>\n",
       "      <td>제가 휠체어를 사용하여야 하는 장애인인데 교육원에서 교육을 받을 수 있나요?제가 휠...</td>\n",
       "    </tr>\n",
       "    <tr>\n",
       "      <th>2135</th>\n",
       "      <td>7</td>\n",
       "      <td>행정</td>\n",
       "      <td>투자심사위원회는 어떻게 구성되어 있습니까?</td>\n",
       "      <td>투자심사위원회는 어떻게 구성되어 있습니까지방재정법시행령 제조항의 규정에 의한 서울특...</td>\n",
       "      <td>2898595</td>\n",
       "      <td>투자심사위원회는 어떻게 구성되어 있습니까?투자심사위원회는 어떻게 구성되어 있습니까지...</td>\n",
       "    </tr>\n",
       "    <tr>\n",
       "      <th>2136</th>\n",
       "      <td>6</td>\n",
       "      <td>행정</td>\n",
       "      <td>홈페이지를 구축해서 운영을 하려고 하는데 서버를 어떻게 사용할 수 있나요?</td>\n",
       "      <td>홈페이지를 구축해서 운영을 하려고 하는데 서버를 어떻게 사용할 수 있나요 홈페이지의...</td>\n",
       "      <td>2894434</td>\n",
       "      <td>홈페이지를 구축해서 운영을 하려고 하는데 서버를 어떻게 사용할 수 있나요?홈페이지를...</td>\n",
       "    </tr>\n",
       "    <tr>\n",
       "      <th>2137</th>\n",
       "      <td>3</td>\n",
       "      <td>복지</td>\n",
       "      <td>출산휴가후 집근처에 안심하고 맡길 수 있는 어린이집이 있는지?</td>\n",
       "      <td>출산휴가후 집근처에 안심하고 맡길 수 있는 어린이집이 있는지   서울시 육아종합지원...</td>\n",
       "      <td>19699584</td>\n",
       "      <td>출산휴가후 집근처에 안심하고 맡길 수 있는 어린이집이 있는지?출산휴가후 집근처에 안...</td>\n",
       "    </tr>\n",
       "  </tbody>\n",
       "</table>\n",
       "<p>2138 rows × 6 columns</p>\n",
       "</div>"
      ],
      "text/plain": [
       "        번호  분류                                          제목  \\\n",
       "0     2645  복지                                 아빠 육아휴직 장려금   \n",
       "1     2644  경제                           [서울산업진흥원] 서울메이드란?   \n",
       "2     2642  복지                 광진맘택시 운영(임산부,영아 양육가정 전용 택시)   \n",
       "3     2641  복지                              마포 뇌병변장애인 비전센터   \n",
       "4     2640  행정                   2021년도 중1·고1 신입생 입학준비금 지원   \n",
       "...    ...  ..                                         ...   \n",
       "2133    12  경제                농산물소득분석 자료를 열람하고자 하는데 가능한가요?   \n",
       "2134     8  행정  제가 휠체어를 사용하여야 하는 장애인인데 교육원에서 교육을 받을 수 있나요?   \n",
       "2135     7  행정                     투자심사위원회는 어떻게 구성되어 있습니까?   \n",
       "2136     6  행정   홈페이지를 구축해서 운영을 하려고 하는데 서버를 어떻게 사용할 수 있나요?   \n",
       "2137     3  복지          출산휴가후 집근처에 안심하고 맡길 수 있는 어린이집이 있는지?   \n",
       "\n",
       "                                                     내용      내용번호  \\\n",
       "0     아빠 육아휴직 장려금   업무개요  남성근로자의 육아휴직을 장려하고 양육에 따른 경...  23522464   \n",
       "1     서울산업진흥원 서울메이드란 서울의 감성을 담은 다양하고 새로운 경험을 제공하기 위해...  23194045   \n",
       "2     광진맘택시 운영임산부영아 양육가정 전용 택시  업무개요 교통약자인 임산부와 영아가정...  22904492   \n",
       "3     마포 뇌병변장애인 비전센터 마포뇌병변장애인 비전센터 운영   구분 내용  목적  학...  22477798   \n",
       "4     년도 중고 신입생 입학준비금 지원  업무개요  서울시는 전국 최초로 년도부터 개 자...  22227896   \n",
       "...                                                 ...       ...   \n",
       "2133  농산물소득분석 자료를 열람하고자 하는데 가능한가요 예 가능하십니다    농촌진흥청 ...   2896820   \n",
       "2134  제가 휠체어를 사용하여야 하는 장애인인데 교육원에서 교육을 받을 수 있나요  우리교...   2894409   \n",
       "2135  투자심사위원회는 어떻게 구성되어 있습니까지방재정법시행령 제조항의 규정에 의한 서울특...   2898595   \n",
       "2136  홈페이지를 구축해서 운영을 하려고 하는데 서버를 어떻게 사용할 수 있나요 홈페이지의...   2894434   \n",
       "2137  출산휴가후 집근처에 안심하고 맡길 수 있는 어린이집이 있는지   서울시 육아종합지원...  19699584   \n",
       "\n",
       "                                                     문서  \n",
       "0     아빠 육아휴직 장려금아빠 육아휴직 장려금   업무개요  남성근로자의 육아휴직을 장려...  \n",
       "1     [서울산업진흥원] 서울메이드란?서울산업진흥원 서울메이드란 서울의 감성을 담은 다양하...  \n",
       "2     광진맘택시 운영(임산부,영아 양육가정 전용 택시)광진맘택시 운영임산부영아 양육가정 ...  \n",
       "3     마포 뇌병변장애인 비전센터마포 뇌병변장애인 비전센터 마포뇌병변장애인 비전센터 운영 ...  \n",
       "4     2021년도 중1·고1 신입생 입학준비금 지원년도 중고 신입생 입학준비금 지원  업...  \n",
       "...                                                 ...  \n",
       "2133  농산물소득분석 자료를 열람하고자 하는데 가능한가요?농산물소득분석 자료를 열람하고자 ...  \n",
       "2134  제가 휠체어를 사용하여야 하는 장애인인데 교육원에서 교육을 받을 수 있나요?제가 휠...  \n",
       "2135  투자심사위원회는 어떻게 구성되어 있습니까?투자심사위원회는 어떻게 구성되어 있습니까지...  \n",
       "2136  홈페이지를 구축해서 운영을 하려고 하는데 서버를 어떻게 사용할 수 있나요?홈페이지를...  \n",
       "2137  출산휴가후 집근처에 안심하고 맡길 수 있는 어린이집이 있는지?출산휴가후 집근처에 안...  \n",
       "\n",
       "[2138 rows x 6 columns]"
      ]
     },
     "execution_count": 2,
     "metadata": {},
     "output_type": "execute_result"
    }
   ],
   "source": [
    "df = pd.read_csv('./data/다산콜재단.csv')\n",
    "df"
   ]
  },
  {
   "cell_type": "code",
   "execution_count": 3,
   "id": "3b38528b",
   "metadata": {},
   "outputs": [
    {
     "data": {
      "text/plain": [
       "분류\n",
       "행정    1098\n",
       "경제     823\n",
       "복지     217\n",
       "Name: count, dtype: int64"
      ]
     },
     "execution_count": 3,
     "metadata": {},
     "output_type": "execute_result"
    }
   ],
   "source": [
    "df['분류'].value_counts()"
   ]
  },
  {
   "cell_type": "code",
   "execution_count": 4,
   "id": "7bf59f7b",
   "metadata": {},
   "outputs": [
    {
     "data": {
      "text/plain": [
       "(2138, 6)"
      ]
     },
     "execution_count": 4,
     "metadata": {},
     "output_type": "execute_result"
    }
   ],
   "source": [
    "df.shape"
   ]
  },
  {
   "cell_type": "code",
   "execution_count": 5,
   "id": "10970f84",
   "metadata": {},
   "outputs": [],
   "source": [
    "x = df['문서']\n",
    "y = df['분류']"
   ]
  },
  {
   "cell_type": "markdown",
   "id": "e88792c3",
   "metadata": {},
   "source": [
    "## 데이터 분할"
   ]
  },
  {
   "cell_type": "code",
   "execution_count": 6,
   "id": "3b1439ed",
   "metadata": {},
   "outputs": [],
   "source": [
    "# get_dummies 를사용하여 label 값을 one-hot 형태로 생성\n",
    "y_oh = pd.get_dummies(y)"
   ]
  },
  {
   "cell_type": "code",
   "execution_count": 7,
   "id": "ad0e7b18",
   "metadata": {},
   "outputs": [],
   "source": [
    "x_train, x_test, y_train, y_test = train_test_split(x, y_oh, test_size= 0.2, stratify= y_oh, random_state= 12)"
   ]
  },
  {
   "cell_type": "code",
   "execution_count": 8,
   "id": "5be54d8b",
   "metadata": {},
   "outputs": [
    {
     "data": {
      "text/plain": [
       "((1710,), (428,), (1710, 3), (428, 3))"
      ]
     },
     "execution_count": 8,
     "metadata": {},
     "output_type": "execute_result"
    }
   ],
   "source": [
    "x_train.shape, x_test.shape, y_train.shape, y_test.shape"
   ]
  },
  {
   "cell_type": "code",
   "execution_count": 9,
   "id": "f4317e98",
   "metadata": {},
   "outputs": [],
   "source": [
    "okt = Okt()"
   ]
  },
  {
   "cell_type": "code",
   "execution_count": 10,
   "id": "3448e022",
   "metadata": {},
   "outputs": [],
   "source": [
    "x_train = x_train.map(lambda x: re.sub(\"[^ㄱ-ㅎㅏ-ㅣ가-힣 ]\", \"\", x))\n",
    "x_test = x_test.map(lambda x: re.sub(\"[^ㄱ-ㅎㅏ-ㅣ가-힣 ]\", \"\", x))\n",
    "\n",
    "x_train_token = x_train.map(lambda x: okt.morphs(x, stem = True))\n",
    "x_test_token = x_test.map(lambda x: okt.morphs(x, stem = True))"
   ]
  },
  {
   "cell_type": "code",
   "execution_count": 11,
   "id": "745e054b",
   "metadata": {},
   "outputs": [],
   "source": [
    "x_train_token = x_train_token.map(lambda x: [i for i in x if len(i) > 1])\n",
    "x_test_token = x_test_token.map(lambda x: [i for i in x if len(i) > 1])"
   ]
  },
  {
   "cell_type": "markdown",
   "id": "8e7de412",
   "metadata": {},
   "source": [
    "## 토큰화"
   ]
  },
  {
   "cell_type": "code",
   "execution_count": 12,
   "id": "1d55d439",
   "metadata": {},
   "outputs": [],
   "source": [
    "tokenizer = Tokenizer(oov_token = '', num_words = 6000)"
   ]
  },
  {
   "cell_type": "code",
   "execution_count": 13,
   "id": "4cb25cdf",
   "metadata": {},
   "outputs": [],
   "source": [
    "tokenizer.fit_on_texts(x_train_token)"
   ]
  },
  {
   "cell_type": "code",
   "execution_count": 14,
   "id": "e7cfe734",
   "metadata": {},
   "outputs": [],
   "source": [
    "x_train_seq = tokenizer.texts_to_sequences(x_train_token)\n",
    "x_test_seq = tokenizer.texts_to_sequences(x_test_token)"
   ]
  },
  {
   "cell_type": "code",
   "execution_count": 15,
   "id": "84a98f9d",
   "metadata": {},
   "outputs": [],
   "source": [
    "lengths = np.array([len(x) for x in x_train_seq])"
   ]
  },
  {
   "cell_type": "code",
   "execution_count": 17,
   "id": "d47be778",
   "metadata": {},
   "outputs": [
    {
     "name": "stdout",
     "output_type": "stream",
     "text": [
      "78.81929824561404 6 47.0 2380\n"
     ]
    }
   ],
   "source": [
    "print(np.mean(lengths), np.min(lengths), np.median(lengths), np.max(lengths))"
   ]
  },
  {
   "cell_type": "code",
   "execution_count": 18,
   "id": "d7832f47",
   "metadata": {},
   "outputs": [
    {
     "data": {
      "text/plain": [
       "array([ 28.,  47.,  86., 170.])"
      ]
     },
     "execution_count": 18,
     "metadata": {},
     "output_type": "execute_result"
    }
   ],
   "source": [
    "np.quantile(lengths, [0.25, 0.5, 0.75, 0.9])"
   ]
  },
  {
   "cell_type": "code",
   "execution_count": 19,
   "id": "30f8361d",
   "metadata": {},
   "outputs": [],
   "source": [
    "x_train_seq = pad_sequences(x_train_seq, truncating= 'post', maxlen = 160)\n",
    "x_test_seq = pad_sequences(x_test_seq, truncating= 'post', maxlen = 160)"
   ]
  },
  {
   "cell_type": "markdown",
   "id": "fc720399",
   "metadata": {},
   "source": [
    "## 모델구성"
   ]
  },
  {
   "cell_type": "code",
   "execution_count": 20,
   "id": "67bac23e",
   "metadata": {},
   "outputs": [
    {
     "name": "stderr",
     "output_type": "stream",
     "text": [
      "C:\\Users\\ITSC\\anaconda3\\Lib\\site-packages\\keras\\src\\layers\\core\\embedding.py:81: UserWarning: Do not pass an `input_shape`/`input_dim` argument to a layer. When using Sequential models, prefer using an `Input(shape)` object as the first layer in the model instead.\n",
      "  super().__init__(**kwargs)\n"
     ]
    }
   ],
   "source": [
    "model = keras.Sequential()\n",
    "model.add(keras.layers.Embedding(6000, 128, input_shape = (160,)))\n",
    "model.add(keras.layers.Bidirectional(keras.layers.LSTM(64, return_sequences= True, dropout= 0.2)))\n",
    "model.add(keras.layers.Bidirectional(keras.layers.LSTM(32, dropout= 0.2)))\n",
    "model.add(keras.layers.Dropout(0.2))\n",
    "model.add(keras.layers.Dense(16, activation = 'relu'))\n",
    "model.add(keras.layers.Dropout(0.2))\n",
    "model.add(keras.layers.Dense(3, activation = 'softmax'))"
   ]
  },
  {
   "cell_type": "code",
   "execution_count": 21,
   "id": "da4021b3",
   "metadata": {},
   "outputs": [],
   "source": [
    "opt = keras.optimizers.Adam(learning_rate= 0.0005)"
   ]
  },
  {
   "cell_type": "code",
   "execution_count": 22,
   "id": "e468f240",
   "metadata": {},
   "outputs": [],
   "source": [
    "model.compile(loss='categorical_crossentropy', optimizer = opt, metrics=['accuracy'])"
   ]
  },
  {
   "cell_type": "code",
   "execution_count": 23,
   "id": "73a7cc0f",
   "metadata": {},
   "outputs": [],
   "source": [
    "es = keras.callbacks.EarlyStopping(patience=8, restore_best_weights= True)"
   ]
  },
  {
   "cell_type": "code",
   "execution_count": 24,
   "id": "579f7fdb",
   "metadata": {},
   "outputs": [
    {
     "name": "stdout",
     "output_type": "stream",
     "text": [
      "Epoch 1/100\n",
      "\u001b[1m22/22\u001b[0m \u001b[32m━━━━━━━━━━━━━━━━━━━━\u001b[0m\u001b[37m\u001b[0m \u001b[1m12s\u001b[0m 186ms/step - accuracy: 0.4582 - loss: 1.0400 - val_accuracy: 0.5175 - val_loss: 0.9302\n",
      "Epoch 2/100\n",
      "\u001b[1m22/22\u001b[0m \u001b[32m━━━━━━━━━━━━━━━━━━━━\u001b[0m\u001b[37m\u001b[0m \u001b[1m3s\u001b[0m 143ms/step - accuracy: 0.4738 - loss: 0.9467 - val_accuracy: 0.5263 - val_loss: 0.8991\n",
      "Epoch 3/100\n",
      "\u001b[1m22/22\u001b[0m \u001b[32m━━━━━━━━━━━━━━━━━━━━\u001b[0m\u001b[37m\u001b[0m \u001b[1m3s\u001b[0m 151ms/step - accuracy: 0.5579 - loss: 0.8860 - val_accuracy: 0.7310 - val_loss: 0.7271\n",
      "Epoch 4/100\n",
      "\u001b[1m22/22\u001b[0m \u001b[32m━━━━━━━━━━━━━━━━━━━━\u001b[0m\u001b[37m\u001b[0m \u001b[1m3s\u001b[0m 150ms/step - accuracy: 0.7932 - loss: 0.6138 - val_accuracy: 0.7661 - val_loss: 0.6262\n",
      "Epoch 5/100\n",
      "\u001b[1m22/22\u001b[0m \u001b[32m━━━━━━━━━━━━━━━━━━━━\u001b[0m\u001b[37m\u001b[0m \u001b[1m3s\u001b[0m 145ms/step - accuracy: 0.8618 - loss: 0.4283 - val_accuracy: 0.7719 - val_loss: 0.6596\n",
      "Epoch 6/100\n",
      "\u001b[1m22/22\u001b[0m \u001b[32m━━━━━━━━━━━━━━━━━━━━\u001b[0m\u001b[37m\u001b[0m \u001b[1m3s\u001b[0m 155ms/step - accuracy: 0.8927 - loss: 0.3334 - val_accuracy: 0.7924 - val_loss: 0.7171\n",
      "Epoch 7/100\n",
      "\u001b[1m22/22\u001b[0m \u001b[32m━━━━━━━━━━━━━━━━━━━━\u001b[0m\u001b[37m\u001b[0m \u001b[1m3s\u001b[0m 155ms/step - accuracy: 0.9054 - loss: 0.2975 - val_accuracy: 0.7865 - val_loss: 0.7786\n",
      "Epoch 8/100\n",
      "\u001b[1m22/22\u001b[0m \u001b[32m━━━━━━━━━━━━━━━━━━━━\u001b[0m\u001b[37m\u001b[0m \u001b[1m3s\u001b[0m 139ms/step - accuracy: 0.8954 - loss: 0.3314 - val_accuracy: 0.7690 - val_loss: 0.7737\n",
      "Epoch 9/100\n",
      "\u001b[1m22/22\u001b[0m \u001b[32m━━━━━━━━━━━━━━━━━━━━\u001b[0m\u001b[37m\u001b[0m \u001b[1m3s\u001b[0m 154ms/step - accuracy: 0.9153 - loss: 0.2745 - val_accuracy: 0.7865 - val_loss: 0.7624\n",
      "Epoch 10/100\n",
      "\u001b[1m22/22\u001b[0m \u001b[32m━━━━━━━━━━━━━━━━━━━━\u001b[0m\u001b[37m\u001b[0m \u001b[1m3s\u001b[0m 138ms/step - accuracy: 0.9655 - loss: 0.1508 - val_accuracy: 0.7865 - val_loss: 0.8006\n",
      "Epoch 11/100\n",
      "\u001b[1m22/22\u001b[0m \u001b[32m━━━━━━━━━━━━━━━━━━━━\u001b[0m\u001b[37m\u001b[0m \u001b[1m3s\u001b[0m 138ms/step - accuracy: 0.9753 - loss: 0.1131 - val_accuracy: 0.7749 - val_loss: 0.9922\n",
      "Epoch 12/100\n",
      "\u001b[1m22/22\u001b[0m \u001b[32m━━━━━━━━━━━━━━━━━━━━\u001b[0m\u001b[37m\u001b[0m \u001b[1m3s\u001b[0m 142ms/step - accuracy: 0.9790 - loss: 0.1015 - val_accuracy: 0.7836 - val_loss: 0.9475\n"
     ]
    }
   ],
   "source": [
    "history = model.fit(x_train_seq, y_train, epochs= 100, batch_size = 64, callbacks= [es], \n",
    "                   validation_split= 0.2)"
   ]
  },
  {
   "cell_type": "code",
   "execution_count": 26,
   "id": "20f250d2",
   "metadata": {},
   "outputs": [
    {
     "name": "stdout",
     "output_type": "stream",
     "text": [
      "\u001b[1m14/14\u001b[0m \u001b[32m━━━━━━━━━━━━━━━━━━━━\u001b[0m\u001b[37m\u001b[0m \u001b[1m0s\u001b[0m 23ms/step - accuracy: 0.7445 - loss: 0.6965\n"
     ]
    },
    {
     "data": {
      "text/plain": [
       "[0.6748698353767395, 0.735981285572052]"
      ]
     },
     "execution_count": 26,
     "metadata": {},
     "output_type": "execute_result"
    }
   ],
   "source": [
    "model.evaluate(x_test_seq, y_test)"
   ]
  },
  {
   "cell_type": "code",
   "execution_count": 28,
   "id": "0552420a",
   "metadata": {},
   "outputs": [],
   "source": [
    "# 모델 학습의 결과값을 데이터프레임으로 만들어 확인 \n",
    "df_hist = pd.DataFrame(history.history)"
   ]
  },
  {
   "cell_type": "code",
   "execution_count": 29,
   "id": "95ccec01",
   "metadata": {},
   "outputs": [
    {
     "data": {
      "text/html": [
       "<div>\n",
       "<style scoped>\n",
       "    .dataframe tbody tr th:only-of-type {\n",
       "        vertical-align: middle;\n",
       "    }\n",
       "\n",
       "    .dataframe tbody tr th {\n",
       "        vertical-align: top;\n",
       "    }\n",
       "\n",
       "    .dataframe thead th {\n",
       "        text-align: right;\n",
       "    }\n",
       "</style>\n",
       "<table border=\"1\" class=\"dataframe\">\n",
       "  <thead>\n",
       "    <tr style=\"text-align: right;\">\n",
       "      <th></th>\n",
       "      <th>accuracy</th>\n",
       "      <th>loss</th>\n",
       "      <th>val_accuracy</th>\n",
       "      <th>val_loss</th>\n",
       "    </tr>\n",
       "  </thead>\n",
       "  <tbody>\n",
       "    <tr>\n",
       "      <th>0</th>\n",
       "      <td>0.480994</td>\n",
       "      <td>0.991193</td>\n",
       "      <td>0.517544</td>\n",
       "      <td>0.930162</td>\n",
       "    </tr>\n",
       "    <tr>\n",
       "      <th>1</th>\n",
       "      <td>0.486842</td>\n",
       "      <td>0.931069</td>\n",
       "      <td>0.526316</td>\n",
       "      <td>0.899074</td>\n",
       "    </tr>\n",
       "    <tr>\n",
       "      <th>2</th>\n",
       "      <td>0.630117</td>\n",
       "      <td>0.837527</td>\n",
       "      <td>0.730994</td>\n",
       "      <td>0.727146</td>\n",
       "    </tr>\n",
       "    <tr>\n",
       "      <th>3</th>\n",
       "      <td>0.801901</td>\n",
       "      <td>0.570566</td>\n",
       "      <td>0.766082</td>\n",
       "      <td>0.626159</td>\n",
       "    </tr>\n",
       "    <tr>\n",
       "      <th>4</th>\n",
       "      <td>0.863304</td>\n",
       "      <td>0.402740</td>\n",
       "      <td>0.771930</td>\n",
       "      <td>0.659596</td>\n",
       "    </tr>\n",
       "    <tr>\n",
       "      <th>5</th>\n",
       "      <td>0.896930</td>\n",
       "      <td>0.328923</td>\n",
       "      <td>0.792398</td>\n",
       "      <td>0.717104</td>\n",
       "    </tr>\n",
       "    <tr>\n",
       "      <th>6</th>\n",
       "      <td>0.897661</td>\n",
       "      <td>0.314128</td>\n",
       "      <td>0.786550</td>\n",
       "      <td>0.778588</td>\n",
       "    </tr>\n",
       "    <tr>\n",
       "      <th>7</th>\n",
       "      <td>0.880848</td>\n",
       "      <td>0.350448</td>\n",
       "      <td>0.769006</td>\n",
       "      <td>0.773650</td>\n",
       "    </tr>\n",
       "    <tr>\n",
       "      <th>8</th>\n",
       "      <td>0.920322</td>\n",
       "      <td>0.264426</td>\n",
       "      <td>0.786550</td>\n",
       "      <td>0.762400</td>\n",
       "    </tr>\n",
       "    <tr>\n",
       "      <th>9</th>\n",
       "      <td>0.961988</td>\n",
       "      <td>0.159441</td>\n",
       "      <td>0.786550</td>\n",
       "      <td>0.800606</td>\n",
       "    </tr>\n",
       "    <tr>\n",
       "      <th>10</th>\n",
       "      <td>0.974415</td>\n",
       "      <td>0.119929</td>\n",
       "      <td>0.774854</td>\n",
       "      <td>0.992234</td>\n",
       "    </tr>\n",
       "    <tr>\n",
       "      <th>11</th>\n",
       "      <td>0.982456</td>\n",
       "      <td>0.090468</td>\n",
       "      <td>0.783626</td>\n",
       "      <td>0.947550</td>\n",
       "    </tr>\n",
       "  </tbody>\n",
       "</table>\n",
       "</div>"
      ],
      "text/plain": [
       "    accuracy      loss  val_accuracy  val_loss\n",
       "0   0.480994  0.991193      0.517544  0.930162\n",
       "1   0.486842  0.931069      0.526316  0.899074\n",
       "2   0.630117  0.837527      0.730994  0.727146\n",
       "3   0.801901  0.570566      0.766082  0.626159\n",
       "4   0.863304  0.402740      0.771930  0.659596\n",
       "5   0.896930  0.328923      0.792398  0.717104\n",
       "6   0.897661  0.314128      0.786550  0.778588\n",
       "7   0.880848  0.350448      0.769006  0.773650\n",
       "8   0.920322  0.264426      0.786550  0.762400\n",
       "9   0.961988  0.159441      0.786550  0.800606\n",
       "10  0.974415  0.119929      0.774854  0.992234\n",
       "11  0.982456  0.090468      0.783626  0.947550"
      ]
     },
     "execution_count": 29,
     "metadata": {},
     "output_type": "execute_result"
    }
   ],
   "source": [
    "# 모델 학습 결과를 그래프로 시각화 \n",
    "df_hist"
   ]
  },
  {
   "cell_type": "code",
   "execution_count": 30,
   "id": "78d815da",
   "metadata": {},
   "outputs": [
    {
     "data": {
      "image/png": "[encoded data removed]",
      "text/plain": [
       "<Figure size 640x480 with 1 Axes>"
      ]
     },
     "metadata": {},
     "output_type": "display_data"
    }
   ],
   "source": [
    "plt.figure()\n",
    "\n",
    "plt.plot(history.history['loss'], label = 'train_loss')\n",
    "plt.plot(history.history['accuracy'], label = 'train_acc')\n",
    "plt.plot(history.history['val_loss'], label = 'val_loss')\n",
    "plt.plot(history.history['val_accuracy'], label = 'val_acc')\n",
    "\n",
    "plt.legend()\n",
    "plt.xlabel('epoch')\n",
    "plt.show()"
   ]
  },
  {
   "cell_type": "code",
   "execution_count": null,
   "id": "dd658f75",
   "metadata": {},
   "outputs": [],
   "source": []
  },
  {
   "cell_type": "code",
   "execution_count": null,
   "id": "fa5c1674",
   "metadata": {},
   "outputs": [],
   "source": []
  },
  {
   "cell_type": "code",
   "execution_count": null,
   "id": "1207f28a",
   "metadata": {},
   "outputs": [],
   "source": []
  },
  {
   "cell_type": "code",
   "execution_count": null,
   "id": "359daaa4",
   "metadata": {},
   "outputs": [],
   "source": []
  },
  {
   "cell_type": "code",
   "execution_count": null,
   "id": "bd4947c9",
   "metadata": {},
   "outputs": [],
   "source": []
  },
  {
   "cell_type": "code",
   "execution_count": null,
   "id": "b78d2c4b",
   "metadata": {},
   "outputs": [],
   "source": []
  },
  {
   "cell_type": "code",
   "execution_count": null,
   "id": "5484c981",
   "metadata": {},
   "outputs": [],
   "source": []
  }
 ],
 "metadata": {
  "kernelspec": {
   "display_name": "Python 3 (ipykernel)",
   "language": "python",
   "name": "python3"
  },
  "language_info": {
   "codemirror_mode": {
    "name": "ipython",
    "version": 3
   },
   "file_extension": ".py",
   "mimetype": "text/x-python",
   "name": "python",
   "nbconvert_exporter": "python",
   "pygments_lexer": "ipython3",
   "version": "3.11.5"
  }
 },
 "nbformat": 4,
 "nbformat_minor": 5
}
