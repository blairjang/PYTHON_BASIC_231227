{
 "cells": [
  {
   "cell_type": "code",
   "execution_count": 1,
   "id": "124023ef",
   "metadata": {},
   "outputs": [
    {
     "name": "stderr",
     "output_type": "stream",
     "text": [
      "python: can't open file 'C:\\\\Users\\\\ITSC\\\\Desktop\\\\project\\\\09.NLP\\\\run_squad.py': [Errno 2] No such file or directory\n"
     ]
    }
   ],
   "source": [
    "!python run_squad.py \\\n",
    "    --model_type bert \\\n",
    "    --model_name_or_path bert-base-multilingual-cased \\\n",
    "    --do_train \\\n",
    "    --train_file KorQuAD_v1.0_train.json \\\n",
    "    --predict_file KorQuAD_v1.0_dev.json \\\n",
    "    --per_gpu_train_batch_size 4 \\\n",
    "    --per_gpu_eval_batch_size 4 \\\n",
    "    --learning_rate 3e-5 \\\n",
    "    --num_train_epochs 3 \\\n",
    "    --max_seq_length 512 \\\n",
    "    --doc_stride 128 \\\n",
    "    --output_dir output \\\n",
    "    --data_dir data \\\n",
    "    --logging_steps 4000 \\\n",
    "    --save_steps 4000 \\\n",
    "    --evaluate_during_training"
   ]
  },
  {
   "cell_type": "code",
   "execution_count": 4,
   "id": "9cc790ef",
   "metadata": {},
   "outputs": [
    {
     "ename": "ImportError",
     "evalue": "cannot import name 'QA' from 'bert' (C:\\Users\\ITSC\\anaconda3\\Lib\\site-packages\\bert\\__init__.py)",
     "output_type": "error",
     "traceback": [
      "\u001b[1;31m---------------------------------------------------------------------------\u001b[0m",
      "\u001b[1;31mImportError\u001b[0m                               Traceback (most recent call last)",
      "Cell \u001b[1;32mIn[4], line 2\u001b[0m\n\u001b[0;32m      1\u001b[0m \u001b[38;5;66;03m# pytorch로 만듦\u001b[39;00m\n\u001b[1;32m----> 2\u001b[0m \u001b[38;5;28;01mfrom\u001b[39;00m \u001b[38;5;21;01mbert\u001b[39;00m \u001b[38;5;28;01mimport\u001b[39;00m QA\n",
      "\u001b[1;31mImportError\u001b[0m: cannot import name 'QA' from 'bert' (C:\\Users\\ITSC\\anaconda3\\Lib\\site-packages\\bert\\__init__.py)"
     ]
    }
   ],
   "source": [
    "# pytorch로 만듦\n",
    "from bert import QA"
   ]
  },
  {
   "cell_type": "code",
   "execution_count": null,
   "id": "d8de8c57",
   "metadata": {},
   "outputs": [],
   "source": [
    "model = QA"
   ]
  },
  {
   "cell_type": "code",
   "execution_count": null,
   "id": "3ad147ef",
   "metadata": {},
   "outputs": [],
   "source": [
    "doc = '''\n",
    "삼성전자 반도체 사업이 메모리 반도체 업황의 회복으로 2022년 4분기 이후 5분기 만에 흑자 전환에 성공했다. 메모리 감산 효과로 D램과 낸드의 가격이 상승한 데다, 재고평가손실 충당금 환입이 반영되면서 시장 기대를 웃도는 호실적을 냈다.\n",
    "'''\n",
    "\n",
    "q = 'xm3의 제조사는?'"
   ]
  },
  {
   "cell_type": "code",
   "execution_count": null,
   "id": "5f4c0cfb",
   "metadata": {},
   "outputs": [],
   "source": [
    "answer = model.predict(doc, q)"
   ]
  },
  {
   "cell_type": "code",
   "execution_count": null,
   "id": "800f0230",
   "metadata": {},
   "outputs": [],
   "source": [
    "answer['answer']"
   ]
  },
  {
   "cell_type": "code",
   "execution_count": null,
   "id": "41be2a00",
   "metadata": {},
   "outputs": [],
   "source": []
  },
  {
   "cell_type": "code",
   "execution_count": null,
   "id": "75afaae7",
   "metadata": {},
   "outputs": [],
   "source": []
  },
  {
   "cell_type": "code",
   "execution_count": null,
   "id": "421e0658",
   "metadata": {},
   "outputs": [],
   "source": []
  },
  {
   "cell_type": "code",
   "execution_count": null,
   "id": "5fa0ab29",
   "metadata": {},
   "outputs": [],
   "source": []
  },
  {
   "cell_type": "code",
   "execution_count": null,
   "id": "82253bc8",
   "metadata": {},
   "outputs": [],
   "source": []
  },
  {
   "cell_type": "code",
   "execution_count": null,
   "id": "85503684",
   "metadata": {},
   "outputs": [],
   "source": []
  },
  {
   "cell_type": "code",
   "execution_count": null,
   "id": "7ad00d2d",
   "metadata": {},
   "outputs": [],
   "source": []
  },
  {
   "cell_type": "code",
   "execution_count": null,
   "id": "9bf904f4",
   "metadata": {},
   "outputs": [],
   "source": []
  },
  {
   "cell_type": "code",
   "execution_count": null,
   "id": "67eb6e3e",
   "metadata": {},
   "outputs": [],
   "source": []
  },
  {
   "cell_type": "code",
   "execution_count": null,
   "id": "a3204010",
   "metadata": {},
   "outputs": [],
   "source": []
  },
  {
   "cell_type": "code",
   "execution_count": null,
   "id": "734c9af5",
   "metadata": {},
   "outputs": [],
   "source": []
  }
 ],
 "metadata": {
  "kernelspec": {
   "display_name": "Python 3 (ipykernel)",
   "language": "python",
   "name": "python3"
  },
  "language_info": {
   "codemirror_mode": {
    "name": "ipython",
    "version": 3
   },
   "file_extension": ".py",
   "mimetype": "text/x-python",
   "name": "python",
   "nbconvert_exporter": "python",
   "pygments_lexer": "ipython3",
   "version": "3.11.5"
  }
 },
 "nbformat": 4,
 "nbformat_minor": 5
}
